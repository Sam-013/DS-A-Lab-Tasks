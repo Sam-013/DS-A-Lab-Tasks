{
  "nbformat": 4,
  "nbformat_minor": 0,
  "metadata": {
    "colab": {
      "provenance": [],
      "authorship_tag": "ABX9TyPHizKIS+T2yI4xCeHSBDtt",
      "include_colab_link": true
    },
    "kernelspec": {
      "name": "python3",
      "display_name": "Python 3"
    },
    "language_info": {
      "name": "python"
    }
  },
  "cells": [
    {
      "cell_type": "markdown",
      "metadata": {
        "id": "view-in-github",
        "colab_type": "text"
      },
      "source": [
        "<a href=\"https://colab.research.google.com/github/Sam-013/DS-A-Lab-Tasks/blob/main/20SW013_LAB_3.ipynb\" target=\"_parent\"><img src=\"https://colab.research.google.com/assets/colab-badge.svg\" alt=\"Open In Colab\"/></a>"
      ]
    },
    {
      "cell_type": "markdown",
      "source": [
        "DS&A LAB-3 TASKS\n",
        "ROLL NUMBER: 20SW013 (SECTION 1)"
      ],
      "metadata": {
        "id": "2FKi4yH-ILnR"
      }
    },
    {
      "cell_type": "markdown",
      "source": [
        "Task 1: Population Density Function"
      ],
      "metadata": {
        "id": "B_y3QY9tHFe9"
      }
    },
    {
      "cell_type": "code",
      "execution_count": null,
      "metadata": {
        "colab": {
          "base_uri": "https://localhost:8080/"
        },
        "id": "v6ybu5k0G7sf",
        "outputId": "26c48f82-ba51-4124-e063-5fd793e8eb0a"
      },
      "outputs": [
        {
          "output_type": "stream",
          "name": "stdout",
          "text": [
            "1 week(s) and 3 day(s)\n"
          ]
        }
      ],
      "source": [
        "def readable_timedelta(days):\n",
        "    weeks = days // 7\n",
        "    remaining_days = days % 7\n",
        "    return \"{} week(s) and {} day(s)\".format(weeks, remaining_days)\n",
        "\n",
        "print(readable_timedelta(10))"
      ]
    },
    {
      "cell_type": "markdown",
      "source": [
        "Task 2: readable_timedelta"
      ],
      "metadata": {
        "id": "Q1rvAaGPHGmh"
      }
    },
    {
      "cell_type": "code",
      "source": [
        "def population_density(population, land_area):\n",
        "    return population / land_area\n",
        "\n",
        "\n",
        "test1 = population_density(10, 1)\n",
        "expected_result1 = 10\n",
        "print(\"expected result: {}, actual result: {}\".format(expected_result1, test1))\n",
        "\n",
        "test2 = population_density(864816, 121.4)\n",
        "expected_result2 = 7123.6902801\n",
        "print(\"expected result: {}, actual result: {}\".format(expected_result2, test2))"
      ],
      "metadata": {
        "colab": {
          "base_uri": "https://localhost:8080/"
        },
        "id": "zYSIx9HzHNU-",
        "outputId": "a9b77014-06ac-43b9-e389-e689b46fb6b0"
      },
      "execution_count": null,
      "outputs": [
        {
          "output_type": "stream",
          "name": "stdout",
          "text": [
            "expected result: 10, actual result: 10.0\n",
            "expected result: 7123.6902801, actual result: 7123.690280065897\n"
          ]
        }
      ]
    },
    {
      "cell_type": "markdown",
      "source": [
        "Task 3: Lambda with Map"
      ],
      "metadata": {
        "id": "VsU9kN5LHQa9"
      }
    },
    {
      "cell_type": "code",
      "source": [
        "numbers = [\n",
        "    [34, 63, 88, 71, 29],\n",
        "    [90, 78, 51, 27, 45],\n",
        "    [63, 37, 85, 46, 22],\n",
        "    [51, 22, 34, 11, 18]\n",
        "]\n",
        "def mean(num_list):\n",
        " return sum(num_list) / len(num_list)\n",
        "\n",
        "averages = list(map(lambda num_list: sum(num_list) / len(num_list), numbers))\n",
        "\n",
        "print(averages)\n"
      ],
      "metadata": {
        "colab": {
          "base_uri": "https://localhost:8080/"
        },
        "id": "ju6nrcvAHSv6",
        "outputId": "a4bf7c8c-eba2-42cb-aab2-59e1de511fca"
      },
      "execution_count": null,
      "outputs": [
        {
          "output_type": "stream",
          "name": "stdout",
          "text": [
            "[57.0, 58.2, 50.6, 27.2]\n"
          ]
        }
      ]
    },
    {
      "cell_type": "markdown",
      "source": [
        "Task 4: Lambda with Filter"
      ],
      "metadata": {
        "id": "d1jDQvt2HWiw"
      }
    },
    {
      "cell_type": "code",
      "source": [
        "cities = [\"New York City\", \"Los Angeles\", \"Chicago\", \"Mountain View\", \"Denver\", \"Boston\"]\n",
        "\n",
        "def is_short(name):\n",
        " return len(name) < 10\n",
        "\n",
        "short_cities = list(filter(lambda name: len(name) < 10, cities))\n",
        "\n",
        "print(short_cities)\n"
      ],
      "metadata": {
        "colab": {
          "base_uri": "https://localhost:8080/"
        },
        "id": "htREAFaUHYgR",
        "outputId": "040b2435-8ff0-4a2b-f9e4-7e139dcdf35b"
      },
      "execution_count": null,
      "outputs": [
        {
          "output_type": "stream",
          "name": "stdout",
          "text": [
            "['Chicago', 'Denver', 'Boston']\n"
          ]
        }
      ]
    },
    {
      "cell_type": "markdown",
      "source": [
        "Task 5: Generate Messages"
      ],
      "metadata": {
        "id": "KD0Oq6uMHY_i"
      }
    },
    {
      "cell_type": "code",
      "source": [
        "names_input = input(\"Enter a list of student names separated by commas: \")\n",
        "names = names_input.split(\",\")\n",
        "\n",
        "assignments_input = input(\"Enter a list of the number of missing assignments separated by commas: \")\n",
        "assignments = list(map(int, assignments_input.split(\",\")))\n",
        "\n",
        "grades_input = input(\"Enter a list of grades separated by commas: \")\n",
        "grades = list(map(float, grades_input.split(\",\")))\n",
        "\n",
        "message = \"Hi {},\\n\\nThis is a reminder that you have {} assignments left to submit before you can graduate. Your current grade is {} and can increase to {} if you submit all assignments before the due date.\\n\\n\"\n",
        "\n",
        "for name, missing_assignments, grade in zip(names, assignments, grades):\n",
        "    potential_grade = grade + 2 * missing_assignments\n",
        "    print(message.format(name, missing_assignments, grade, potential_grade))"
      ],
      "metadata": {
        "colab": {
          "base_uri": "https://localhost:8080/"
        },
        "id": "Fhx_vc8hHaeq",
        "outputId": "0f580df7-4296-4fd0-a371-b2967e9d01ae"
      },
      "execution_count": null,
      "outputs": [
        {
          "output_type": "stream",
          "name": "stdout",
          "text": [
            "Enter a list of student names separated by commas: sa,m, alex, jungkook\n",
            "Enter a list of the number of missing assignments separated by commas: 3, 5, 5, 7\n",
            "Enter a list of grades separated by commas: 21.9, 9., 8.2\n",
            "Hi sa,\n",
            "\n",
            "This is a reminder that you have 3 assignments left to submit before you can graduate. Your current grade is 21.9 and can increase to 27.9 if you submit all assignments before the due date.\n",
            "\n",
            "\n",
            "Hi m,\n",
            "\n",
            "This is a reminder that you have 5 assignments left to submit before you can graduate. Your current grade is 9.0 and can increase to 19.0 if you submit all assignments before the due date.\n",
            "\n",
            "\n",
            "Hi  alex,\n",
            "\n",
            "This is a reminder that you have 5 assignments left to submit before you can graduate. Your current grade is 8.2 and can increase to 18.2 if you submit all assignments before the due date.\n",
            "\n",
            "\n"
          ]
        }
      ]
    },
    {
      "cell_type": "markdown",
      "source": [
        "Task 6: Reading and Writing Files"
      ],
      "metadata": {
        "id": "3hoo0XwCHcsz"
      }
    },
    {
      "cell_type": "code",
      "source": [
        "camelot_lines = []\n",
        "\n",
        "with open(\"camelot.txt\") as f:\n",
        "  for line in f:camelot_lines.append(line.strip())\n",
        "  print(camelot_lines)"
      ],
      "metadata": {
        "id": "ww4EByv4He5g"
      },
      "execution_count": null,
      "outputs": []
    },
    {
      "cell_type": "markdown",
      "source": [
        "Task 7: Flying Circus Cast List"
      ],
      "metadata": {
        "id": "lw9wph-oHiKC"
      }
    },
    {
      "cell_type": "code",
      "source": [
        "def create_cast_list(filename):\n",
        "    cast_list = []\n",
        "    with open(filename, 'r') as file:\n",
        "        for line in file:\n",
        "\n",
        "            actor_name = line.strip().split(',')[0]\n",
        "            cast_list.append(actor_name)\n",
        "    return cast_list\n",
        "\n",
        "cast_list = create_cast_list('flying_circus_cast.txt')\n",
        "for actor in cast_list:\n",
        "    print(actor)"
      ],
      "metadata": {
        "id": "nYwxNZXvHkhq"
      },
      "execution_count": null,
      "outputs": []
    }
  ]
}