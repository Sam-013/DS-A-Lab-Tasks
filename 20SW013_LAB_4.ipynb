{
  "nbformat": 4,
  "nbformat_minor": 0,
  "metadata": {
    "colab": {
      "provenance": [],
      "authorship_tag": "ABX9TyM7snDGqeSn+EKe+N63tY9w",
      "include_colab_link": true
    },
    "kernelspec": {
      "name": "python3",
      "display_name": "Python 3"
    },
    "language_info": {
      "name": "python"
    }
  },
  "cells": [
    {
      "cell_type": "markdown",
      "metadata": {
        "id": "view-in-github",
        "colab_type": "text"
      },
      "source": [
        "<a href=\"https://colab.research.google.com/github/Sam-013/DS-A-Lab-Tasks/blob/main/20SW013_LAB_4.ipynb\" target=\"_parent\"><img src=\"https://colab.research.google.com/assets/colab-badge.svg\" alt=\"Open In Colab\"/></a>"
      ]
    },
    {
      "cell_type": "markdown",
      "source": [
        "TASK: 1"
      ],
      "metadata": {
        "id": "wiFph_fyWZsx"
      }
    },
    {
      "cell_type": "code",
      "execution_count": 3,
      "metadata": {
        "id": "rRzbeRc7U4zC",
        "colab": {
          "base_uri": "https://localhost:8080/"
        },
        "outputId": "0e1bb3aa-7d7e-46a1-c722-9cbbe328d2a3"
      },
      "outputs": [
        {
          "output_type": "stream",
          "name": "stdout",
          "text": [
            "[[ 2  4  6  8]\n",
            " [10 12 14 16]\n",
            " [18 20 22 24]\n",
            " [26 28 30 32]]\n"
          ]
        }
      ],
      "source": [
        "import numpy as np\n",
        "even_num = np.arange(2, 33, 2)\n",
        "X = even_num.reshape(4, 4)\n",
        "print(X)\n"
      ]
    },
    {
      "cell_type": "markdown",
      "source": [
        "TASK: 2"
      ],
      "metadata": {
        "id": "hBh-xznyW1f0"
      }
    },
    {
      "cell_type": "code",
      "source": [
        "import numpy as np\n",
        "X = np.arange(1, 26).reshape(5, 5)\n",
        "Y = X[X % 2 == 1]\n",
        "print(X)\n",
        "print(Y)"
      ],
      "metadata": {
        "id": "wTO2LqyoW2hv",
        "colab": {
          "base_uri": "https://localhost:8080/"
        },
        "outputId": "7400d66a-31c9-4188-8675-f8326b4a49af"
      },
      "execution_count": 2,
      "outputs": [
        {
          "output_type": "stream",
          "name": "stdout",
          "text": [
            "[[ 1  2  3  4  5]\n",
            " [ 6  7  8  9 10]\n",
            " [11 12 13 14 15]\n",
            " [16 17 18 19 20]\n",
            " [21 22 23 24 25]]\n",
            "[ 1  3  5  7  9 11 13 15 17 19 21 23 25]\n"
          ]
        }
      ]
    },
    {
      "cell_type": "markdown",
      "source": [
        "TASK: 3"
      ],
      "metadata": {
        "id": "R8CiHRrgXGIP"
      }
    },
    {
      "cell_type": "code",
      "source": [
        "import numpy as np\n",
        "numbers = np.arange(1, 5)\n",
        "X = np.zeros((4, 4))\n",
        "for i in range(4):\n",
        "    X[:, i] = numbers[i]\n",
        "\n",
        "print(X)\n"
      ],
      "metadata": {
        "id": "zokbJv0vXH90",
        "colab": {
          "base_uri": "https://localhost:8080/"
        },
        "outputId": "89645a9d-89ce-4cac-9e7d-1c6f5b702b91"
      },
      "execution_count": 1,
      "outputs": [
        {
          "output_type": "stream",
          "name": "stdout",
          "text": [
            "[[1. 2. 3. 4.]\n",
            " [1. 2. 3. 4.]\n",
            " [1. 2. 3. 4.]\n",
            " [1. 2. 3. 4.]]\n"
          ]
        }
      ]
    }
  ]
}