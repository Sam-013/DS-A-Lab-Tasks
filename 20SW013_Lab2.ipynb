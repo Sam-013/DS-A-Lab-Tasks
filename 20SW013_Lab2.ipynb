{
  "cells": [
    {
      "cell_type": "markdown",
      "metadata": {
        "id": "view-in-github",
        "colab_type": "text"
      },
      "source": [
        "<a href=\"https://colab.research.google.com/github/Sam-013/abdulsalam013/blob/main/20SW013_Lab2.ipynb\" target=\"_parent\"><img src=\"https://colab.research.google.com/assets/colab-badge.svg\" alt=\"Open In Colab\"/></a>"
      ]
    },
    {
      "cell_type": "markdown",
      "metadata": {
        "id": "YD8QrLwFyI7n"
      },
      "source": [

        "Task 1"
      ]
    },
    {
      "cell_type": "code",
      "execution_count": 1,
      "metadata": {
        "colab": {
          "base_uri": "https://localhost:8080/"
        },
        "id": "cu04OAvRyKOi",
        "outputId": "72605f02-290b-48cb-f9b6-cbe69124833a"
      },
      "outputs": [
        {
          "output_type": "stream",
          "name": "stdout",
          "text": [
            "Congo! You won a wafer-thin mint!\n"
          ]
        }
      ],
      "source": [
        "total_points = 174\n",
        "\n",
        "if total_points <= 50:\n",
        "    final_result = \"Congo! You won a wooden rabbit!\"\n",
        "elif total_points <= 150:\n",
        "    final_result = \"Oh dear, no prize this time.\"\n",
        "elif total_points <= 180:\n",
        "    final_result = \"Congo! You won a wafer-thin mint!\"\n",
        "else:\n",
        "    final_result = \"Congo! You won a penguin!\"\n",
        "\n",
        "print(final_result)"
      ]
    },
    {
      "cell_type": "markdown",
      "metadata": {
        "id": "K116QR8xyjm-"
      },
      "source": [
        "Task 2 (Guess My Number)\n"
      ]
    },
    {
      "cell_type": "code",
      "execution_count": 2,
      "metadata": {
        "colab": {
          "base_uri": "https://localhost:8080/"
        },
        "id": "3EibK9DKynKq",
        "outputId": "a0c7bb54-92d6-41bf-9a67-029f9de47d94"
      },
      "outputs": [
        {
          "output_type": "stream",
          "name": "stdout",
          "text": [
            "Oops!  Your guess was too low.\n"
          ]
        }
      ],
      "source": [
        "answer = 7\n",
        "guess = 2\n",
        "\n",
        "if guess < answer:\n",
        "    result = \"Oops!  Your guess was too low.\"\n",
        "elif guess > answer:\n",
        "    result = \"Oops!  Your guess was too high.\"\n",
        "elif guess == answer:\n",
        "    result = \"Nice!  Your guess matched the answer!\"\n",
        "\n",
        "print(result)"
      ]
    },
    {
      "cell_type": "markdown",
      "metadata": {
        "id": "EGajRpWt4W84"
      },
      "source": [
        "Task 3"
      ]
    },
    {
      "cell_type": "code",
      "execution_count": 3,
      "metadata": {
        "colab": {
          "base_uri": "https://localhost:8080/"
        },
        "id": "c8Y67nKD4W85",
        "outputId": "3a216940-e89c-4ff1-dff6-7a90d9a7340a"
      },
      "outputs": [
        {
          "output_type": "stream",
          "name": "stdout",
          "text": [
            "Since you're from CA, your total cost is 107.5.\n"
          ]
        }
      ],
      "source": [
        "state = 'CA'\n",
        "purchase_amount = 100\n",
        "\n",
        "if state == 'CA':\n",
        "    tax_amount = .075\n",
        "    total_cost = purchase_amount + (purchase_amount * tax_amount)\n",
        "    result = \"Since you're from {}, your total cost is {}.\".format(state, total_cost)\n",
        "\n",
        "elif state == 'MN':\n",
        "    tax_amount = .095\n",
        "    total_cost = purchase_amount*(1+tax_amount)\n",
        "    result = \"Since you're from {}, your total cost is {}.\".format(state, total_cost)\n",
        "\n",
        "elif state == 'NY':\n",
        "    tax_amount = .089\n",
        "    total_cost = purchase_amount*(1+tax_amount)\n",
        "    result = \"Since you're from {}, your total cost is {}.\".format(state, total_cost)\n",
        "\n",
        "print(result)"
      ]
    },
    {
      "cell_type": "markdown",
      "metadata": {
        "id": "tDHUxl4XzO9W"
      },
      "source": [
        "Task 4"
      ]
    },
    {
      "cell_type": "code",
      "execution_count": null,
      "metadata": {
        "colab": {
          "base_uri": "https://localhost:8080/"
        },
        "id": "NlacDqVozQWK",
        "outputId": "1997afda-f439-4848-fa28-07f15b1c41b3"
      },
      "outputs": [
        {
          "name": "stdout",
          "output_type": "stream",
          "text": [
            "the\n",
            "quick\n",
            "brown\n",
            "fox\n",
            "jumped\n",
            "over\n",
            "the\n",
            "lazy\n",
            "dog\n"
          ]
        }
      ],
      "source": [
        "sentence = [\"the\", \"quick\", \"brown\", \"fox\", \"jumped\", \"over\", \"the\", \"lazy\", \"dog\"]\n",
        "\n",
        "for word in sentence:\n",
        "  print(word)"
      ]
    },
    {
      "cell_type": "markdown",
      "metadata": {
        "id": "wFLEoVcezjVk"
      },
      "source": [
        "Task 5 (Multiples of 5)"
      ]
    },
    {
      "cell_type": "code",
      "execution_count": null,
      "metadata": {
        "colab": {
          "base_uri": "https://localhost:8080/"
        },
        "id": "KF2gTTfMzoK0",
        "outputId": "8fe0fb90-0a7a-4488-af3b-4631b2dee8ba"
      },
      "outputs": [
        {
          "name": "stdout",
          "output_type": "stream",
          "text": [
            "5\n",
            "10\n",
            "15\n",
            "20\n",
            "25\n",
            "30\n"
          ]
        }
      ],
      "source": [
        "for x in range(5,31,5):\n",
        "    print(x)"
      ]
    },
    {
      "cell_type": "markdown",
      "metadata": {
        "id": "wNTYqjrOz5fL"
      },
      "source": [
        "Task 6 (Extract First Names)"
      ]
    },
    {
      "cell_type": "code",
      "execution_count": null,
      "metadata": {
        "colab": {
          "base_uri": "https://localhost:8080/"
        },
        "id": "4DzUk_8ez9iY",
        "outputId": "d7351cbb-0fdb-4156-d159-43a42c1215a9"
      },
      "outputs": [
        {
          "name": "stdout",
          "output_type": "stream",
          "text": [
            "['rick', 'morty', 'summer', 'jerry', 'beth']\n"
          ]
        }
      ],
      "source": [
        "names_of_them = [\"Rick Sanchez\", \"Morty Smith\", \"Summer Smith\", \"Jerry Smith\", \"Beth Smith\"]\n",
        "first_name =[name.lower().split()[0] for name in names_of_them]\n",
        "print(first_name)"
      ]
    },
    {
      "cell_type": "markdown",
      "metadata": {
        "id": "ATLm3-nz1pZt"
      },
      "source": [
        "Task 7 (Multiples of 3)"
      ]
    },
    {
      "cell_type": "code",
      "execution_count": null,
      "metadata": {
        "colab": {
          "base_uri": "https://localhost:8080/"
        },
        "id": "n1GI7o9m13kT",
        "outputId": "0c5e9337-a6ae-4102-f699-ef167b01321e"
      },
      "outputs": [
        {
          "name": "stdout",
          "output_type": "stream",
          "text": [
            "[0, 3, 6, 9, 12, 15, 18, 21, 24, 27, 30, 33, 36, 39, 42, 45, 48, 51, 54, 57]\n"
          ]
        }
      ],
      "source": [
        "multiples_3=[x*3 for x in range (1,20)]\n",
        "print(multiples_3)"
      ]
    },
    {
      "cell_type": "markdown",
      "metadata": {
        "id": "onjgaaDC4W9E"
      },
      "source": [
        "Task 8"
      ]
    },
    {
      "cell_type": "code",
      "execution_count": 4,
      "metadata": {
        "colab": {
          "base_uri": "https://localhost:8080/"
        },
        "id": "qxnuGOoL4W9E",
        "outputId": "a2d94d87-b826-4c1a-b49a-9a320eebb3bd"
      },
      "outputs": [
        {
          "output_type": "stream",
          "name": "stdout",
          "text": [
            "['Rick Sanchez', 'Summer Smith', 'Beth Smith']\n"
          ]
        }
      ],
      "source": [
        "\n",
        "scores = {\n",
        "             \"Rick Sanchez\": 70,\n",
        "             \"Morty Smith\": 35,\n",
        "             \"Summer Smith\": 82,\n",
        "             \"Jerry Smith\": 23,\n",
        "             \"Beth Smith\": 98\n",
        "          }\n",
        "\n",
        "\n",
        "passed = [name for name, value in scores.items() if value >= 65]\n",
        "print(passed)\n",
        "\n"
      ]
    },
    {
      "cell_type": "markdown",
      "metadata": {
        "id": "t-txaRq24W9F"
      },
      "source": [
        "Task 9"
      ]
    },
    {
      "cell_type": "code",
      "execution_count": 5,
      "metadata": {
        "colab": {
          "base_uri": "https://localhost:8080/"
        },
        "id": "Ts8_s5av4W9G",
        "outputId": "4bc0f7ec-f42b-4611-b634-059135158c5d"
      },
      "outputs": [
        {
          "output_type": "stream",
          "name": "stdout",
          "text": [
            "{'Barney': 72, 'Robin': 68, 'Ted': 72, 'Lily': 66, 'Marshall': 76}\n"
          ]
        }
      ],
      "source": [
        "\n",
        "cast_names = [\"Barney\", \"Robin\", \"Ted\", \"Lily\", \"Marshall\"]\n",
        "cast_heights = [72, 68, 72, 66, 76]\n",
        "\n",
        "cast = dict(zip(cast_names, cast_heights))\n",
        "\n",
        "print(cast)"
      ]
    },
    {
      "cell_type": "markdown",
      "metadata": {
        "id": "0vo7MJD-4W9H"
      },
      "source": [
        "Task 10"
      ]
    },
    {
      "cell_type": "code",
      "execution_count": 6,
      "metadata": {
        "colab": {
          "base_uri": "https://localhost:8080/"
        },
        "id": "wZ1kLhQx4W9H",
        "outputId": "8311fdf1-4e2b-477c-8a5f-f2d8ed9d85a5"
      },
      "outputs": [
        {
          "output_type": "stream",
          "name": "stdout",
          "text": [
            "['Barney Stinson 72', 'Robin Scherbatsky 68', 'Ted Mosby 72', 'Lily Aldrin 66', 'Marshall Eriksen 76']\n"
          ]
        }
      ],
      "source": [
        "\n",
        "cast = [\"Barney Stinson\", \"Robin Scherbatsky\", \"Ted Mosby\", \"Lily Aldrin\", \"Marshall Eriksen\"]\n",
        "heights = [72, 68, 72, 66, 76]\n",
        "\n",
        "for index, height in enumerate(heights):\n",
        "    s = \"{} {}\".format(cast[index], height)\n",
        "    cast[index] = s\n",
        "\n",
        "print(cast)"
      ]
    }
  ],
  "metadata": {
    "colab": {
      "provenance": [],
      "include_colab_link": true
    },
    "kernelspec": {
      "display_name": "Python 3",
      "name": "python3"
    },
    "language_info": {
      "name": "python",
      "version": "3.11.4"
    }
  },
  "nbformat": 4,
  "nbformat_minor": 0
}
